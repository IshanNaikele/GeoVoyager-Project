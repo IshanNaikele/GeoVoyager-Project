{
 "cells": [
  {
   "cell_type": "code",
   "execution_count": 19,
   "metadata": {},
   "outputs": [],
   "source": [
    "import pandas as pd\n",
    "import numpy as np\n",
    "import seaborn as sns\n",
    "import matplotlib.pyplot as plt"
   ]
  },
  {
   "cell_type": "code",
   "execution_count": 20,
   "metadata": {},
   "outputs": [],
   "source": [
    "data=pd.read_csv(r'D:\\Ishan\\GeoVoyager-Project\\Data\\Countries.csv')"
   ]
  },
  {
   "cell_type": "code",
   "execution_count": 21,
   "metadata": {},
   "outputs": [
    {
     "data": {
      "text/html": [
       "<div>\n",
       "<style scoped>\n",
       "    .dataframe tbody tr th:only-of-type {\n",
       "        vertical-align: middle;\n",
       "    }\n",
       "\n",
       "    .dataframe tbody tr th {\n",
       "        vertical-align: top;\n",
       "    }\n",
       "\n",
       "    .dataframe thead th {\n",
       "        text-align: right;\n",
       "    }\n",
       "</style>\n",
       "<table border=\"1\" class=\"dataframe\">\n",
       "  <thead>\n",
       "    <tr style=\"text-align: right;\">\n",
       "      <th></th>\n",
       "      <th>country_name</th>\n",
       "      <th>capital_city</th>\n",
       "      <th>currency</th>\n",
       "      <th>official_lang</th>\n",
       "      <th>population</th>\n",
       "      <th>area</th>\n",
       "      <th>continent</th>\n",
       "      <th>largest_city</th>\n",
       "      <th>independence_year</th>\n",
       "      <th>landmarks</th>\n",
       "      <th>national_animals</th>\n",
       "      <th>national_bird</th>\n",
       "      <th>govt_type</th>\n",
       "      <th>dish</th>\n",
       "      <th>Major Religions</th>\n",
       "      <th>leader</th>\n",
       "      <th>driving_side</th>\n",
       "      <th>national_sport</th>\n",
       "      <th>major_fest</th>\n",
       "    </tr>\n",
       "  </thead>\n",
       "  <tbody>\n",
       "    <tr>\n",
       "      <th>0</th>\n",
       "      <td>Afghanistan</td>\n",
       "      <td>Kabul</td>\n",
       "      <td>AFN</td>\n",
       "      <td>Dari, Pashto, Turkmen</td>\n",
       "      <td>40218234</td>\n",
       "      <td>652230.0</td>\n",
       "      <td>Asia</td>\n",
       "      <td>Kabul</td>\n",
       "      <td>1919-08-19</td>\n",
       "      <td>['Bamiyan Buddhas', 'Minaret of Jam', \"Kabul's...</td>\n",
       "      <td>Snow Leopard</td>\n",
       "      <td>Golden Eagle</td>\n",
       "      <td>Islamic Emirate</td>\n",
       "      <td>['Kabuli Pilaf', 'Mantu', 'Ashak']</td>\n",
       "      <td>Islam</td>\n",
       "      <td>Hibatullah Akhundzada</td>\n",
       "      <td>right</td>\n",
       "      <td>Buzkashi</td>\n",
       "      <td>Nowruz</td>\n",
       "    </tr>\n",
       "    <tr>\n",
       "      <th>1</th>\n",
       "      <td>Albania</td>\n",
       "      <td>Tirana</td>\n",
       "      <td>ALL</td>\n",
       "      <td>Albanian</td>\n",
       "      <td>2837743</td>\n",
       "      <td>28748.0</td>\n",
       "      <td>Europe</td>\n",
       "      <td>Tirana</td>\n",
       "      <td>1912-11-28</td>\n",
       "      <td>['Butrint Archaeological Site', 'Llogara Pass'...</td>\n",
       "      <td>Golden Eagle</td>\n",
       "      <td>Golden Eagle</td>\n",
       "      <td>Republic</td>\n",
       "      <td>['Tavë Kosi', 'Fërgesë', 'Byrek']</td>\n",
       "      <td>Islam</td>\n",
       "      <td>Bajram Begaj</td>\n",
       "      <td>right</td>\n",
       "      <td>Soccer</td>\n",
       "      <td>Independence Day</td>\n",
       "    </tr>\n",
       "    <tr>\n",
       "      <th>2</th>\n",
       "      <td>Algeria</td>\n",
       "      <td>Algiers</td>\n",
       "      <td>DZD</td>\n",
       "      <td>Arabic</td>\n",
       "      <td>44700000</td>\n",
       "      <td>2381741.0</td>\n",
       "      <td>Africa</td>\n",
       "      <td>Algiers</td>\n",
       "      <td>1962-07-05</td>\n",
       "      <td>[\"Al Qal'a of Beni Hammad\", 'Kasbah of Algiers...</td>\n",
       "      <td>Fennec Fox</td>\n",
       "      <td>NaN</td>\n",
       "      <td>Republic</td>\n",
       "      <td>['Couscous', 'Chakchouka', 'Merguez']</td>\n",
       "      <td>Islam</td>\n",
       "      <td>Abdelmadjid Tebboune</td>\n",
       "      <td>right</td>\n",
       "      <td>Soccer</td>\n",
       "      <td>Revolution Day</td>\n",
       "    </tr>\n",
       "    <tr>\n",
       "      <th>3</th>\n",
       "      <td>American Samoa</td>\n",
       "      <td>Pago Pago</td>\n",
       "      <td>USD</td>\n",
       "      <td>English, Samoan</td>\n",
       "      <td>55197</td>\n",
       "      <td>199.0</td>\n",
       "      <td>Oceania</td>\n",
       "      <td>Pago Pago</td>\n",
       "      <td>NaN</td>\n",
       "      <td>['Aunu’u Island', 'Rainmaker Mountain', 'Ofu B...</td>\n",
       "      <td>NaN</td>\n",
       "      <td>NaN</td>\n",
       "      <td>Territory (USA)</td>\n",
       "      <td>['Palusami', 'Samoan Oka', 'Sapasui']</td>\n",
       "      <td>Christianity</td>\n",
       "      <td>Lolo Matalasi Moliga</td>\n",
       "      <td>right</td>\n",
       "      <td>American Football</td>\n",
       "      <td>American Samoa Flag Day</td>\n",
       "    </tr>\n",
       "    <tr>\n",
       "      <th>4</th>\n",
       "      <td>Andorra</td>\n",
       "      <td>Andorra la Vella</td>\n",
       "      <td>EUR</td>\n",
       "      <td>Catalan</td>\n",
       "      <td>77265</td>\n",
       "      <td>468.0</td>\n",
       "      <td>Europe</td>\n",
       "      <td>Andorra la Vella</td>\n",
       "      <td>1278</td>\n",
       "      <td>['Grandvalira', 'Casa de la Vall', 'Sant Joan ...</td>\n",
       "      <td>NaN</td>\n",
       "      <td>NaN</td>\n",
       "      <td>Parliamentary Co-Principality</td>\n",
       "      <td>['Trinxat', 'Andorran Cuttlefish', 'Escudella ...</td>\n",
       "      <td>Christianity</td>\n",
       "      <td>Xavier Espot</td>\n",
       "      <td>right</td>\n",
       "      <td>Soccer</td>\n",
       "      <td>Our Lady of Meritxell Day</td>\n",
       "    </tr>\n",
       "  </tbody>\n",
       "</table>\n",
       "</div>"
      ],
      "text/plain": [
       "     country_name      capital_city currency          official_lang  \\\n",
       "0     Afghanistan             Kabul      AFN  Dari, Pashto, Turkmen   \n",
       "1         Albania            Tirana      ALL               Albanian   \n",
       "2         Algeria           Algiers      DZD                 Arabic   \n",
       "3  American Samoa         Pago Pago      USD        English, Samoan   \n",
       "4         Andorra  Andorra la Vella      EUR                Catalan   \n",
       "\n",
       "   population       area continent      largest_city independence_year  \\\n",
       "0    40218234   652230.0      Asia             Kabul        1919-08-19   \n",
       "1     2837743    28748.0    Europe            Tirana        1912-11-28   \n",
       "2    44700000  2381741.0    Africa           Algiers        1962-07-05   \n",
       "3       55197      199.0   Oceania         Pago Pago               NaN   \n",
       "4       77265      468.0    Europe  Andorra la Vella              1278   \n",
       "\n",
       "                                           landmarks national_animals  \\\n",
       "0  ['Bamiyan Buddhas', 'Minaret of Jam', \"Kabul's...     Snow Leopard   \n",
       "1  ['Butrint Archaeological Site', 'Llogara Pass'...     Golden Eagle   \n",
       "2  [\"Al Qal'a of Beni Hammad\", 'Kasbah of Algiers...       Fennec Fox   \n",
       "3  ['Aunu’u Island', 'Rainmaker Mountain', 'Ofu B...              NaN   \n",
       "4  ['Grandvalira', 'Casa de la Vall', 'Sant Joan ...              NaN   \n",
       "\n",
       "  national_bird                      govt_type  \\\n",
       "0  Golden Eagle                Islamic Emirate   \n",
       "1  Golden Eagle                       Republic   \n",
       "2           NaN                       Republic   \n",
       "3           NaN                Territory (USA)   \n",
       "4           NaN  Parliamentary Co-Principality   \n",
       "\n",
       "                                                dish Major Religions  \\\n",
       "0                 ['Kabuli Pilaf', 'Mantu', 'Ashak']           Islam   \n",
       "1                  ['Tavë Kosi', 'Fërgesë', 'Byrek']           Islam   \n",
       "2              ['Couscous', 'Chakchouka', 'Merguez']           Islam   \n",
       "3              ['Palusami', 'Samoan Oka', 'Sapasui']    Christianity   \n",
       "4  ['Trinxat', 'Andorran Cuttlefish', 'Escudella ...    Christianity   \n",
       "\n",
       "                  leader driving_side     national_sport  \\\n",
       "0  Hibatullah Akhundzada        right           Buzkashi   \n",
       "1           Bajram Begaj        right             Soccer   \n",
       "2   Abdelmadjid Tebboune        right             Soccer   \n",
       "3   Lolo Matalasi Moliga        right  American Football   \n",
       "4           Xavier Espot        right             Soccer   \n",
       "\n",
       "                  major_fest  \n",
       "0                     Nowruz  \n",
       "1           Independence Day  \n",
       "2             Revolution Day  \n",
       "3    American Samoa Flag Day  \n",
       "4  Our Lady of Meritxell Day  "
      ]
     },
     "execution_count": 21,
     "metadata": {},
     "output_type": "execute_result"
    }
   ],
   "source": [
    "data.head()"
   ]
  },
  {
   "cell_type": "code",
   "execution_count": 22,
   "metadata": {},
   "outputs": [
    {
     "data": {
      "text/plain": [
       "Index(['country_name', 'capital_city', 'currency', 'official_lang',\n",
       "       'population', 'area', 'continent', 'largest_city', 'independence_year',\n",
       "       'landmarks', 'national_animals', 'national_bird', 'govt_type', 'dish',\n",
       "       'Major Religions', 'leader', 'driving_side', 'national_sport',\n",
       "       'major_fest'],\n",
       "      dtype='object')"
      ]
     },
     "execution_count": 22,
     "metadata": {},
     "output_type": "execute_result"
    }
   ],
   "source": [
    "data.columns"
   ]
  },
  {
   "cell_type": "code",
   "execution_count": 23,
   "metadata": {},
   "outputs": [
    {
     "data": {
      "text/plain": [
       "national_bird        158\n",
       "national_animals     156\n",
       "landmarks             61\n",
       "govt_type             59\n",
       "independence_year     58\n",
       "dish                  58\n",
       "leader                34\n",
       "major_fest            31\n",
       "national_sport        17\n",
       "Major Religions       14\n",
       "capital_city           4\n",
       "largest_city           4\n",
       "currency               3\n",
       "official_lang          1\n",
       "country_name           0\n",
       "area                   0\n",
       "population             0\n",
       "continent              0\n",
       "driving_side           0\n",
       "dtype: int64"
      ]
     },
     "execution_count": 23,
     "metadata": {},
     "output_type": "execute_result"
    }
   ],
   "source": [
    "data.isnull().sum().sort_values(ascending=False)"
   ]
  },
  {
   "cell_type": "code",
   "execution_count": 24,
   "metadata": {},
   "outputs": [],
   "source": [
    "data.drop(columns=['national_bird','national_animals','largest_city','Major Religions','national_sport','major_fest','independence_year','dish','govt_type','leader','driving_side'],inplace=True)"
   ]
  },
  {
   "cell_type": "code",
   "execution_count": 25,
   "metadata": {},
   "outputs": [
    {
     "data": {
      "text/plain": [
       "(250, 8)"
      ]
     },
     "execution_count": 25,
     "metadata": {},
     "output_type": "execute_result"
    }
   ],
   "source": [
    "data.shape"
   ]
  },
  {
   "cell_type": "code",
   "execution_count": 26,
   "metadata": {},
   "outputs": [
    {
     "data": {
      "text/html": [
       "<div>\n",
       "<style scoped>\n",
       "    .dataframe tbody tr th:only-of-type {\n",
       "        vertical-align: middle;\n",
       "    }\n",
       "\n",
       "    .dataframe tbody tr th {\n",
       "        vertical-align: top;\n",
       "    }\n",
       "\n",
       "    .dataframe thead th {\n",
       "        text-align: right;\n",
       "    }\n",
       "</style>\n",
       "<table border=\"1\" class=\"dataframe\">\n",
       "  <thead>\n",
       "    <tr style=\"text-align: right;\">\n",
       "      <th></th>\n",
       "      <th>country_name</th>\n",
       "      <th>capital_city</th>\n",
       "      <th>currency</th>\n",
       "      <th>official_lang</th>\n",
       "      <th>population</th>\n",
       "      <th>area</th>\n",
       "      <th>continent</th>\n",
       "      <th>landmarks</th>\n",
       "    </tr>\n",
       "  </thead>\n",
       "  <tbody>\n",
       "    <tr>\n",
       "      <th>0</th>\n",
       "      <td>Afghanistan</td>\n",
       "      <td>Kabul</td>\n",
       "      <td>AFN</td>\n",
       "      <td>Dari, Pashto, Turkmen</td>\n",
       "      <td>40218234</td>\n",
       "      <td>652230.0</td>\n",
       "      <td>Asia</td>\n",
       "      <td>['Bamiyan Buddhas', 'Minaret of Jam', \"Kabul's...</td>\n",
       "    </tr>\n",
       "    <tr>\n",
       "      <th>1</th>\n",
       "      <td>Albania</td>\n",
       "      <td>Tirana</td>\n",
       "      <td>ALL</td>\n",
       "      <td>Albanian</td>\n",
       "      <td>2837743</td>\n",
       "      <td>28748.0</td>\n",
       "      <td>Europe</td>\n",
       "      <td>['Butrint Archaeological Site', 'Llogara Pass'...</td>\n",
       "    </tr>\n",
       "    <tr>\n",
       "      <th>2</th>\n",
       "      <td>Algeria</td>\n",
       "      <td>Algiers</td>\n",
       "      <td>DZD</td>\n",
       "      <td>Arabic</td>\n",
       "      <td>44700000</td>\n",
       "      <td>2381741.0</td>\n",
       "      <td>Africa</td>\n",
       "      <td>[\"Al Qal'a of Beni Hammad\", 'Kasbah of Algiers...</td>\n",
       "    </tr>\n",
       "    <tr>\n",
       "      <th>3</th>\n",
       "      <td>American Samoa</td>\n",
       "      <td>Pago Pago</td>\n",
       "      <td>USD</td>\n",
       "      <td>English, Samoan</td>\n",
       "      <td>55197</td>\n",
       "      <td>199.0</td>\n",
       "      <td>Oceania</td>\n",
       "      <td>['Aunu’u Island', 'Rainmaker Mountain', 'Ofu B...</td>\n",
       "    </tr>\n",
       "    <tr>\n",
       "      <th>4</th>\n",
       "      <td>Andorra</td>\n",
       "      <td>Andorra la Vella</td>\n",
       "      <td>EUR</td>\n",
       "      <td>Catalan</td>\n",
       "      <td>77265</td>\n",
       "      <td>468.0</td>\n",
       "      <td>Europe</td>\n",
       "      <td>['Grandvalira', 'Casa de la Vall', 'Sant Joan ...</td>\n",
       "    </tr>\n",
       "  </tbody>\n",
       "</table>\n",
       "</div>"
      ],
      "text/plain": [
       "     country_name      capital_city currency          official_lang  \\\n",
       "0     Afghanistan             Kabul      AFN  Dari, Pashto, Turkmen   \n",
       "1         Albania            Tirana      ALL               Albanian   \n",
       "2         Algeria           Algiers      DZD                 Arabic   \n",
       "3  American Samoa         Pago Pago      USD        English, Samoan   \n",
       "4         Andorra  Andorra la Vella      EUR                Catalan   \n",
       "\n",
       "   population       area continent  \\\n",
       "0    40218234   652230.0      Asia   \n",
       "1     2837743    28748.0    Europe   \n",
       "2    44700000  2381741.0    Africa   \n",
       "3       55197      199.0   Oceania   \n",
       "4       77265      468.0    Europe   \n",
       "\n",
       "                                           landmarks  \n",
       "0  ['Bamiyan Buddhas', 'Minaret of Jam', \"Kabul's...  \n",
       "1  ['Butrint Archaeological Site', 'Llogara Pass'...  \n",
       "2  [\"Al Qal'a of Beni Hammad\", 'Kasbah of Algiers...  \n",
       "3  ['Aunu’u Island', 'Rainmaker Mountain', 'Ofu B...  \n",
       "4  ['Grandvalira', 'Casa de la Vall', 'Sant Joan ...  "
      ]
     },
     "execution_count": 26,
     "metadata": {},
     "output_type": "execute_result"
    }
   ],
   "source": [
    "data.head()"
   ]
  },
  {
   "cell_type": "code",
   "execution_count": 27,
   "metadata": {},
   "outputs": [
    {
     "name": "stderr",
     "output_type": "stream",
     "text": [
      "C:\\Users\\ISHAN\\AppData\\Local\\Temp\\ipykernel_19236\\2622002824.py:1: FutureWarning: A value is trying to be set on a copy of a DataFrame or Series through chained assignment using an inplace method.\n",
      "The behavior will change in pandas 3.0. This inplace method will never work because the intermediate object on which we are setting values always behaves as a copy.\n",
      "\n",
      "For example, when doing 'df[col].method(value, inplace=True)', try using 'df.method({col: value}, inplace=True)' or df[col] = df[col].method(value) instead, to perform the operation inplace on the original object.\n",
      "\n",
      "\n",
      "  data['landmarks'].fillna('No Famous Landmark', inplace=True)\n"
     ]
    }
   ],
   "source": [
    "data['landmarks'].fillna('No Famous Landmark', inplace=True)\n"
   ]
  },
  {
   "cell_type": "code",
   "execution_count": 28,
   "metadata": {},
   "outputs": [
    {
     "data": {
      "text/plain": [
       "country_name     0\n",
       "capital_city     4\n",
       "currency         3\n",
       "official_lang    1\n",
       "population       0\n",
       "area             0\n",
       "continent        0\n",
       "landmarks        0\n",
       "dtype: int64"
      ]
     },
     "execution_count": 28,
     "metadata": {},
     "output_type": "execute_result"
    }
   ],
   "source": [
    "data.isnull().sum()"
   ]
  },
  {
   "cell_type": "code",
   "execution_count": 29,
   "metadata": {},
   "outputs": [],
   "source": [
    "data.dropna(inplace=True)"
   ]
  },
  {
   "cell_type": "code",
   "execution_count": 30,
   "metadata": {},
   "outputs": [
    {
     "data": {
      "text/plain": [
       "country_name     0\n",
       "capital_city     0\n",
       "currency         0\n",
       "official_lang    0\n",
       "population       0\n",
       "area             0\n",
       "continent        0\n",
       "landmarks        0\n",
       "dtype: int64"
      ]
     },
     "execution_count": 30,
     "metadata": {},
     "output_type": "execute_result"
    }
   ],
   "source": [
    "data.isnull().sum()"
   ]
  },
  {
   "cell_type": "code",
   "execution_count": 31,
   "metadata": {},
   "outputs": [
    {
     "data": {
      "text/plain": [
       "(246, 8)"
      ]
     },
     "execution_count": 31,
     "metadata": {},
     "output_type": "execute_result"
    }
   ],
   "source": [
    "data.shape"
   ]
  },
  {
   "cell_type": "code",
   "execution_count": 32,
   "metadata": {},
   "outputs": [
    {
     "data": {
      "text/plain": [
       "Index(['country_name', 'capital_city', 'currency', 'official_lang',\n",
       "       'population', 'area', 'continent', 'landmarks'],\n",
       "      dtype='object')"
      ]
     },
     "execution_count": 32,
     "metadata": {},
     "output_type": "execute_result"
    }
   ],
   "source": [
    "data.columns"
   ]
  },
  {
   "cell_type": "code",
   "execution_count": 33,
   "metadata": {},
   "outputs": [],
   "source": [
    "import pandas as pd\n",
    "\n",
    "# Example: Assuming `df` is your preprocessed DataFrame\n",
    "data.to_csv('preprocessed_data.csv', index=False)\n"
   ]
  },
  {
   "cell_type": "code",
   "execution_count": null,
   "metadata": {},
   "outputs": [],
   "source": []
  }
 ],
 "metadata": {
  "kernelspec": {
   "display_name": "my_env",
   "language": "python",
   "name": "python3"
  },
  "language_info": {
   "codemirror_mode": {
    "name": "ipython",
    "version": 3
   },
   "file_extension": ".py",
   "mimetype": "text/x-python",
   "name": "python",
   "nbconvert_exporter": "python",
   "pygments_lexer": "ipython3",
   "version": "3.13.1"
  }
 },
 "nbformat": 4,
 "nbformat_minor": 2
}
